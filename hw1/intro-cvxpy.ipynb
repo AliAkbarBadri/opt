{
 "metadata": {
  "language_info": {
   "codemirror_mode": {
    "name": "ipython",
    "version": 3
   },
   "file_extension": ".py",
   "mimetype": "text/x-python",
   "name": "python",
   "nbconvert_exporter": "python",
   "pygments_lexer": "ipython3",
   "version": "3.9.1-final"
  },
  "orig_nbformat": 2,
  "kernelspec": {
   "name": "python391jvsc74a57bd012a4e94bf0631ae6ef78c3444134a1256e4c2febc45a02ca5ae9d7bc233ed3c7",
   "display_name": "Python 3.9.1 64-bit ('venvOpt')"
  },
  "metadata": {
   "interpreter": {
    "hash": "12a4e94bf0631ae6ef78c3444134a1256e4c2febc45a02ca5ae9d7bc233ed3c7"
   }
  }
 },
 "nbformat": 4,
 "nbformat_minor": 2,
 "cells": [
  {
   "cell_type": "code",
   "execution_count": 1,
   "metadata": {},
   "outputs": [],
   "source": [
    "import cvxpy as cp\n",
    "import numpy as np"
   ]
  },
  {
   "cell_type": "code",
   "execution_count": 2,
   "metadata": {},
   "outputs": [
    {
     "output_type": "stream",
     "name": "stdout",
     "text": [
      "p* : 2.000000000022658\nx1* :  2.0000000000096945\nx2* : 4.321106562677765e-12\n"
     ]
    }
   ],
   "source": [
    "x1 = cp.Variable()\n",
    "x2 = cp.Variable()\n",
    "\n",
    "constraints = [x2 - x1 <= 2,\n",
    "                x1 + x2 >= 2,\n",
    "                x2 >= 0,\n",
    "                2*x1 - 3*x2 <= 5\n",
    "                ]\n",
    "obj = cp.Minimize(x1 + 3*x2)\n",
    "\n",
    "prob = cp.Problem(obj, constraints)\n",
    "print(\"p* :\",prob.solve())\n",
    "print(\"x1* : \", x1.value)\n",
    "print(\"x2* :\", x2.value)"
   ]
  }
 ]
}