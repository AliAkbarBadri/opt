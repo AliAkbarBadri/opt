{
 "cells": [
  {
   "cell_type": "code",
   "execution_count": 2,
   "source": [
    "import numpy as np\n",
    "from scipy import linalg\n",
    "import cvxpy as cp"
   ],
   "outputs": [],
   "metadata": {}
  },
  {
   "cell_type": "code",
   "execution_count": 12,
   "source": [
    "np.random.seed(42)\n",
    "\n",
    "dim_num = 2\n",
    "samples_num = 150\n",
    "\n",
    "X = np.random.multivariate_normal([1,1], [[1,1],[1,1]], size = 150)\n",
    "Y = np.random.multivariate_normal([1,1], [[1,1],[1,1]], size = 150)\n",
    "\n",
    "d = np.sqrt(((X-Y)**2).sum(axis = 1))"
   ],
   "outputs": [],
   "metadata": {}
  },
  {
   "cell_type": "code",
   "execution_count": 13,
   "source": [
    "Z = X - Y\n",
    "P = cp.Variable((dim_num,dim_num),PSD=True)\n",
    "func = 0\n",
    "for i in range(samples_num):\n",
    "       Zt_P_Z = cp.quad_form(Z[i],P)\n",
    "       func += (d[i]**2) + (-2 * d[i] * cp.sqrt(Zt_P_Z)) + Zt_P_Z\n",
    "func = func/samples_num"
   ],
   "outputs": [],
   "metadata": {}
  },
  {
   "cell_type": "code",
   "execution_count": 25,
   "source": [
    "obj = cp.Minimize(func)\n",
    "prob = cp.Problem(obj) \n",
    "prob.solve()\n",
    "print(\"P* =\\n\", np.round(P.value, 2))"
   ],
   "outputs": [
    {
     "output_type": "stream",
     "name": "stdout",
     "text": [
      "P* =\n",
      " \t [[1. 0.]\n",
      " [0. 1.]]\n"
     ]
    }
   ],
   "metadata": {}
  }
 ],
 "metadata": {
  "interpreter": {
   "hash": "bdf5785f05cce86ad3c89301815e2ebbfdc832f346f1a7f49b9d24396472d765"
  },
  "kernelspec": {
   "display_name": "Python 3.9.1 64-bit ('3.9')",
   "name": "python3"
  },
  "language_info": {
   "name": "python",
   "version": ""
  },
  "orig_nbformat": 4
 },
 "nbformat": 4,
 "nbformat_minor": 2
}