{
 "metadata": {
  "language_info": {
   "codemirror_mode": {
    "name": "ipython",
    "version": 3
   },
   "file_extension": ".py",
   "mimetype": "text/x-python",
   "name": "python",
   "nbconvert_exporter": "python",
   "pygments_lexer": "ipython3",
   "version": "3.9.1"
  },
  "orig_nbformat": 2,
  "kernelspec": {
   "name": "python391jvsc74a57bd03fe4181e5a2e281957309e0895b3a00b4bd601c68508599fa5fd5910e0433885",
   "display_name": "Python 3.9.1  ('venvOpt': venv)"
  },
  "metadata": {
   "interpreter": {
    "hash": "12a4e94bf0631ae6ef78c3444134a1256e4c2febc45a02ca5ae9d7bc233ed3c7"
   }
  }
 },
 "nbformat": 4,
 "nbformat_minor": 2,
 "cells": [
  {
   "cell_type": "code",
   "execution_count": 1,
   "metadata": {},
   "outputs": [],
   "source": [
    "import numpy as np\n",
    "import scipy\n",
    "from scipy.sparse import diags\n",
    "from scipy.linalg import hilbert\n",
    "from scipy.sparse.linalg import cg\n",
    "import time"
   ]
  },
  {
   "cell_type": "code",
   "execution_count": 2,
   "metadata": {},
   "outputs": [],
   "source": [
    "def conjugate_gradient(A, b):\n",
    "    x0 = np.ones(len(b))\n",
    "    r0 = np.dot(A, x0) - b\n",
    "    p_k = - r0\n",
    "    r_k_r = np.dot(r0, r0)\n",
    "    x_k1 = x0\n",
    "    r_k1 = r0\n",
    "    while True:\n",
    "        Ap_k = np.dot(A, p_k)\n",
    "        alpha_k = r_k_r / np.dot(p_k, Ap_k)\n",
    "        x_k1 += alpha_k * p_k\n",
    "        r_k1 += alpha_k * Ap_k\n",
    "        r_k1_r = np.dot(r_k1, r_k1)\n",
    "        if r_k1_r < 1e-8:\n",
    "            break\n",
    "        beta = r_k1_r / r_k_r\n",
    "        r_k_r = r_k1_r\n",
    "        p_k = beta * p_k - r_k1\n",
    "    return x_k1"
   ]
  },
  {
   "source": [
    "# Q10.a."
   ],
   "cell_type": "markdown",
   "metadata": {}
  },
  {
   "cell_type": "code",
   "execution_count": 3,
   "metadata": {},
   "outputs": [],
   "source": [
    "n_list = [100,400,1600]\n",
    "\n",
    "A1_results = []\n",
    "A2_results = []\n",
    "\n",
    "for N in n_list:\n",
    "    b = np.ones(N)\n",
    "    A1 = diags([-1, -4, -1], [-1, 0, 1], shape=(N, N)).toarray()\n",
    "    A2 = scipy.linalg.hilbert(N)\n",
    "\n",
    "    t1 = time.time()\n",
    "    x = conjugate_gradient(A1, b)\n",
    "    t2 = time.time()\n",
    "    A1_results.append([N, np.linalg.norm(np.dot(A1, x) - b),t2 - t1])\n",
    "\n",
    "    t1 = time.time()\n",
    "    x = conjugate_gradient(A2, b)\n",
    "    t2 = time.time()\n",
    "    A2_results.append([N, np.linalg.norm(np.dot(A2, x) - b),t2 - t1])"
   ]
  },
  {
   "cell_type": "code",
   "execution_count": 4,
   "metadata": {},
   "outputs": [
    {
     "output_type": "stream",
     "name": "stdout",
     "text": [
      "A1 results:\n\nN        \t ||A1x* - b|| \t\t Time                                    \n-----------------------------------------------------------------\n100      \t 9.201221302187598e-05 \t 0.02588486671447754                     \n400      \t 9.25095388996844e-05 \t 0.0009200572967529297                   \n1600     \t 9.261506119378308e-05 \t 0.021431922912597656                    \n"
     ]
    }
   ],
   "source": [
    "print(\"A1 results:\\n\")\n",
    "print(\"{:<8} \\t {:<8} \\t\\t {:<40}\".format('N', '||A1x* - b||','Time'))\n",
    "print(\"-\"*65)\n",
    "for v in A1_results:\n",
    "    N,norm, t = v\n",
    "    print (\"{:<8} \\t {:<8} \\t {:<40}\".format(N, norm, t))"
   ]
  },
  {
   "cell_type": "code",
   "execution_count": 5,
   "metadata": {},
   "outputs": [
    {
     "output_type": "stream",
     "name": "stdout",
     "text": [
      "A2 results:\n\nN        \t ||A2x* - b|| \t\t Time                                    \n-----------------------------------------------------------------\n100      \t 7.480837045165894e-05 \t 0.01806807518005371                     \n400      \t 8.628143836240043e-05 \t 0.013210773468017578                    \n1600     \t 9.038339898349864e-05 \t 0.4534740447998047                      \n"
     ]
    }
   ],
   "source": [
    "print(\"A2 results:\\n\")\n",
    "print(\"{:<8} \\t {:<8} \\t\\t {:<40}\".format('N', '||A2x* - b||','Time'))\n",
    "print(\"-\"*65)\n",
    "for v in A2_results:\n",
    "    N, norm, t = v\n",
    "    print (\"{:<8} \\t {:<8} \\t {:<40}\".format(N, norm, t))"
   ]
  },
  {
   "cell_type": "code",
   "execution_count": 6,
   "metadata": {},
   "outputs": [
    {
     "output_type": "stream",
     "name": "stdout",
     "text": [
      "6.220968269692673e-05\n"
     ]
    }
   ],
   "source": [
    "A1 = hilbert(100)\n",
    "b = np.ones(100)\n",
    "x3 = cg(A1, b)\n",
    "# print(x3[0])\n",
    "print(np.linalg.norm(np.dot(A1, x3[0]) - b))\n",
    "t4 = time.time()"
   ]
  },
  {
   "source": [
    "# Q10.b."
   ],
   "cell_type": "markdown",
   "metadata": {}
  },
  {
   "cell_type": "code",
   "execution_count": 7,
   "metadata": {},
   "outputs": [],
   "source": [
    "epsilon = 1e-6\n",
    "n_list = [100,400,1600]\n",
    "\n",
    "A1_results2 = []\n",
    "A2_results2 = []\n",
    "\n",
    "for N in n_list:\n",
    "    b = np.ones(N)\n",
    "    A1 = diags([-1, -4, -1], [-1, 0, 1], shape=(N, N)).toarray()\n",
    "    A1_prime = A1 + epsilon\n",
    "    A2 = scipy.linalg.hilbert(N)\n",
    "    A2_prime = A2 + epsilon\n",
    "\n",
    "    x = conjugate_gradient(A1, b)\n",
    "    t1 = time.time()\n",
    "    x_prime = conjugate_gradient(A1_prime, b)\n",
    "    t2 = time.time()\n",
    "    A1_results2.append([N, np.linalg.norm(np.dot(A1_prime, x_prime) - b), np.linalg.norm(A1 - A1_prime), \n",
    "                        np.linalg.norm(x - x_prime), t2 - t1])\n",
    "\n",
    "    x = conjugate_gradient(A2, b)\n",
    "    t1 = time.time()\n",
    "    x_prime = conjugate_gradient(A2_prime, b)\n",
    "    t2 = time.time()\n",
    "    A2_results2.append([N, np.linalg.norm(np.dot(A2_prime, x_prime) - b), np.linalg.norm(A2 - A2_prime), \n",
    "                        np.linalg.norm(x - x_prime), t2 - t1])"
   ]
  },
  {
   "cell_type": "code",
   "execution_count": 8,
   "metadata": {},
   "outputs": [
    {
     "output_type": "stream",
     "name": "stdout",
     "text": [
      "A1' results:\n\nN \t ||A1'x'* - b||   \t\t ||A1 - A1'||             \t ||x* - x'*||             \t Time\n----------------------------------------------------------------------------------------------------------------------------------\n100 \t 9.201375306615714e-05 \t\t 0.00010000000000019656   \t 2.8034778599532327e-05   \t 0.026253223419189453\n400 \t 9.251571313054464e-05 \t\t 0.0004000000000002083    \t 0.00022274979090903437   \t 0.0006122589111328125\n1600 \t 9.263977165815284e-05 \t\t 0.0016000000000009056    \t 0.001779277603018894     \t 0.008115291595458984\n"
     ]
    }
   ],
   "source": [
    "print(\"A1' results:\\n\")\n",
    "print(\"{} \\t {:<16} \\t\\t {:<24} \\t {:<24} \\t {}\".format('N', \"||A1'x'* - b||\",\"||A1 - A1'||\",\"||x* - x'*||\",'Time'))\n",
    "print(\"-\"*130)\n",
    "for v in A1_results2:\n",
    "    N, norm1, norm2, norm3, t = v\n",
    "    print (\"{} \\t {:<16} \\t\\t {:<24} \\t {:<24} \\t {}\".format(N, norm1, norm2, norm3, t))"
   ]
  },
  {
   "cell_type": "code",
   "execution_count": 9,
   "metadata": {},
   "outputs": [
    {
     "output_type": "stream",
     "name": "stdout",
     "text": [
      "A2' results:\n\nN \t ||A2'x'* - b||   \t\t ||A2 - A2'||             \t ||x* - x'*||             \t Time\n----------------------------------------------------------------------------------------------------------------------------------\n100 \t 6.928157677985581e-05 \t\t 9.999999999998317e-05    \t 431.31513945127404       \t 0.0010690689086914062\n400 \t 8.970951116915818e-05 \t\t 0.00040000000000002046   \t 6586.817477061563        \t 0.010984182357788086\n1600 \t 5.910716676936034e-05 \t\t 0.0016000000000007022    \t 162170.23535708713       \t 0.49959897994995117\n"
     ]
    }
   ],
   "source": [
    "print(\"A2' results:\\n\")\n",
    "print(\"{} \\t {:<16} \\t\\t {:<24} \\t {:<24} \\t {}\".format('N', \"||A2'x'* - b||\",\"||A2 - A2'||\",\"||x* - x'*||\",'Time'))\n",
    "print(\"-\"*130)\n",
    "for v in A2_results2:\n",
    "    N, norm1, norm2, norm3, t = v\n",
    "    print (\"{} \\t {:<16} \\t\\t {:<24} \\t {:<24} \\t {}\".format(N, norm1, norm2, norm3, t))"
   ]
  },
  {
   "source": [
    "# Q10.C."
   ],
   "cell_type": "markdown",
   "metadata": {}
  },
  {
   "source": [
    "When we add epsilon to A1, x* won't change a lot and ||x\\* - x'\\*|| is small.\n",
    "<br/>\n",
    "When we add epsilon to A2, x* won't change a lot and ||x\\* - x'\\*|| is big.\n",
    "<br/>\n",
    "In both of them ||A - A'|| and ||A'x\\* - b|| is small i.e. A and A' are close and x'\\* is a good answer to new problem but when A=A1 x\\* and x'\\* are close and when A=A2 they are far."
   ],
   "cell_type": "markdown",
   "metadata": {}
  }
 ]
}