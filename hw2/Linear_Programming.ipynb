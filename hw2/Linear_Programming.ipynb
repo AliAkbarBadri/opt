{
 "metadata": {
  "language_info": {
   "codemirror_mode": {
    "name": "ipython",
    "version": 3
   },
   "file_extension": ".py",
   "mimetype": "text/x-python",
   "name": "python",
   "nbconvert_exporter": "python",
   "pygments_lexer": "ipython3",
   "version": "3.9.1"
  },
  "orig_nbformat": 2,
  "kernelspec": {
   "name": "python391jvsc74a57bd03fe4181e5a2e281957309e0895b3a00b4bd601c68508599fa5fd5910e0433885",
   "display_name": "Python 3.9.1 64-bit ('venvOpt')"
  },
  "metadata": {
   "interpreter": {
    "hash": "12a4e94bf0631ae6ef78c3444134a1256e4c2febc45a02ca5ae9d7bc233ed3c7"
   }
  }
 },
 "nbformat": 4,
 "nbformat_minor": 2,
 "cells": [
  {
   "cell_type": "code",
   "execution_count": 1,
   "metadata": {},
   "outputs": [],
   "source": [
    "import cvxpy as cp\n",
    "import numpy as np"
   ]
  },
  {
   "cell_type": "code",
   "execution_count": 2,
   "metadata": {},
   "outputs": [
    {
     "output_type": "stream",
     "name": "stdout",
     "text": [
      "p* : 2.000000000022658\nx1* :  2.0000000000096945\nx2* : 4.321106562677765e-12\n"
     ]
    }
   ],
   "source": [
    "N = 30\n",
    "\n",
    "A = np.array([[-1, 0.4, 0.8], [1, 0, 0], [0, 1, 0]])\n",
    "b = np.array([1, 0, 0.3])\n",
    "x_des = np.array([7, 2, -6])\n",
    "\n",
    "x = cp.Variable()\n",
    "\n",
    "constraints = [x2 - x1 <= 2,\n",
    "                x1 + x2 >= 2,\n",
    "                x2 >= 0,\n",
    "                2*x1 - 3*x2 <= 5\n",
    "                ]\n",
    "obj = cp.Minimize(x1 + 3*x2)\n",
    "\n",
    "prob = cp.Problem(obj, constraints)\n",
    "print(\"p* :\",prob.solve())\n",
    "print(\"x1* : \", x1.value)\n",
    "print(\"x2* :\", x2.value)"
   ]
  }
 ]
}